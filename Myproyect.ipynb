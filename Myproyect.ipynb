{
 "cells": [
  {
   "cell_type": "code",
   "execution_count": 66,
   "metadata": {},
   "outputs": [
    {
     "name": "stdout",
     "output_type": "stream",
     "text": [
      "Index(['Open', 'High', 'Low', 'Close', 'Volume', 'Dividends', 'Stock Splits'], dtype='object')\n"
     ]
    },
    {
     "data": {
      "text/plain": [
       "'tesla = yf.Ticker(\\'TSLA\\')\\ntesla_data=tesla.history(period = \\'max\\') \\n\\ndef make_graph(data, title):\\n    plt.figure(figsize=(10,5))  \\n    plt.plot(data[\\'Close\\'], label=\"Tesla Stock Price\", color=\\'blue\\')   \\n    plt.ylabel(\\'Closing Price USD ($)\\')  \\n    plt.title(title)  \\n    plt.xticks(rotation=45)  \\n    plt.grid(True)  \\n    plt.legend()  \\n    plt.tight_layout()  \\n    plt.show()  \\n\\nmake_graph(tesla_data, \\'Tesla Stock Price Over Time\\')'"
      ]
     },
     "execution_count": 66,
     "metadata": {},
     "output_type": "execute_result"
    }
   ],
   "source": [
    "import yfinance as yf\n",
    "import pandas as pd\n",
    "import matplotlib.pyplot as plt\n",
    "\n",
    "\n",
    "tesla = yf.Ticker('TSLA')\n",
    "tesla_data=tesla.history(period = 'max') \n",
    "print(tesla_data)\n",
    "\n",
    "'''\n",
    "game_stop_data.reset_index(inplace=True)\n",
    "print(game_stop_data.head())\n",
    "\n",
    "game_stop = yf.Ticker('GME')\n",
    "game_stop_data = game_stop.history(period = 'max')\n",
    "game_stop_data.reset_index()\n",
    "print(game_stop_data.head())\n",
    "\n",
    "'''\n",
    "\n",
    "\n",
    "'''tesla = yf.Ticker('TSLA')\n",
    "tesla_data=tesla.history(period = 'max') \n",
    "\n",
    "def make_graph(data, title):\n",
    "    plt.figure(figsize=(10,5))  \n",
    "    plt.plot(data['Close'], label=\"Tesla Stock Price\", color='blue')   \n",
    "    plt.ylabel('Closing Price USD ($)')  \n",
    "    plt.title(title)  \n",
    "    plt.xticks(rotation=45)  \n",
    "    plt.grid(True)  \n",
    "    plt.legend()  \n",
    "    plt.tight_layout()  \n",
    "    plt.show()  \n",
    "\n",
    "make_graph(tesla_data, 'Tesla Stock Price Over Time')'''"
   ]
  },
  {
   "cell_type": "code",
   "execution_count": null,
   "metadata": {},
   "outputs": [],
   "source": []
  }
 ],
 "metadata": {
  "kernelspec": {
   "display_name": "Python 3",
   "language": "python",
   "name": "python3"
  },
  "language_info": {
   "codemirror_mode": {
    "name": "ipython",
    "version": 3
   },
   "file_extension": ".py",
   "mimetype": "text/x-python",
   "name": "python",
   "nbconvert_exporter": "python",
   "pygments_lexer": "ipython3",
   "version": "3.11.9"
  }
 },
 "nbformat": 4,
 "nbformat_minor": 2
}
